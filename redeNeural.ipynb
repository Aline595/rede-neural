{
  "nbformat": 4,
  "nbformat_minor": 0,
  "metadata": {
    "colab": {
      "name": "redeNeural.ipynb",
      "provenance": [],
      "collapsed_sections": [],
      "authorship_tag": "ABX9TyMNrqwT5yCX9zR8Ex8gZ0ui",
      "include_colab_link": true
    },
    "kernelspec": {
      "name": "python3",
      "display_name": "Python 3"
    }
  },
  "cells": [
    {
      "cell_type": "markdown",
      "metadata": {
        "id": "view-in-github",
        "colab_type": "text"
      },
      "source": [
        "<a href=\"https://colab.research.google.com/github/Aline595/rede-neural/blob/main/redeNeural.ipynb\" target=\"_parent\"><img src=\"https://colab.research.google.com/assets/colab-badge.svg\" alt=\"Open In Colab\"/></a>"
      ]
    },
    {
      "cell_type": "code",
      "metadata": {
        "id": "h7zbaBpQW2rD",
        "outputId": "ad4329f7-6c56-4647-8b5e-1e6113ef190d",
        "colab": {
          "base_uri": "https://localhost:8080/",
          "height": 34
        }
      },
      "source": [
        "# Único neurônio só faz uma separação linear\n",
        "\n",
        "\"\"\"\n",
        " a b c   saída\n",
        " 0 0 1   0(Treino)\n",
        " 0 1 1   1\n",
        " 1 0 1   1\n",
        " 0 1 0   1\n",
        " 1 0 0   1\n",
        " 1 1 1   0\n",
        " 0 0 0   0\n",
        "\n",
        " 1 1 1    1(Teste)\n",
        "\"\"\"\n",
        "\n",
        "from numpy import exp, array, random, dot\n",
        "training_set_inputs = array([[0, 0, 1], [0, 1, 1], [1, 0, 1], [0, 1, 0],\n",
        "                             [1, 0, 0], [1, 1, 1], [0, 0, 0]])\n",
        "training_set_outputs = array([[0, 1, 1, 1, 1, 0, 0]]).T\n",
        "random.seed(1)\n",
        "synaptic_weights = 2 * random.random((3, 1)) - 1\n",
        "for iteration in range(10000):\n",
        "  output = 1/(1 + exp(-(dot(training_set_inputs, synaptic_weights))))\n",
        "  synaptic_weights += dot(training_set_inputs.T, (training_set_outputs - output) * output * (1 - output))\n",
        "print(1 / (1 + exp(-(dot(array([1, 1, 0]), synaptic_weights)))))\n",
        "\n"
      ],
      "execution_count": 1,
      "outputs": [
        {
          "output_type": "stream",
          "text": [
            "[0.99999997]\n"
          ],
          "name": "stdout"
        }
      ]
    },
    {
      "cell_type": "code",
      "metadata": {
        "id": "HF_kSPCCaFgW",
        "outputId": "99c9e4fe-baad-491b-f92c-631021e005bc",
        "colab": {
          "base_uri": "https://localhost:8080/",
          "height": 34
        }
      },
      "source": [
        "# prever um ou \n",
        "\n",
        "\"\"\"\n",
        " a b   saída\n",
        " 0 0    0(Treino)\n",
        " 0 1    1\n",
        " 1 0    1\n",
        "\n",
        " 1 1    1(Teste)\n",
        "\"\"\"\n",
        "\n",
        "from numpy import exp, array, random, dot\n",
        "training_set_inputs = array([[0, 0], [0, 1], [1, 0]]) # entradas de treinamento\n",
        "training_set_outputs = array([[0, 1, 1]]).T # saidas de treinamento\n",
        "random.seed(1)\n",
        "synaptic_weights = 2 * random.random((2, 1)) - 1 # pesos_sinapticos aleatórios entre -1 e 1 \n",
        "for iteration in range(10000): # epocas\n",
        "  output = 1/(1 + exp(-(dot(training_set_inputs, synaptic_weights)))) # saídas/ formula da sigmoide \n",
        "  synaptic_weights += dot(training_set_inputs.T, (training_set_outputs - output) * output * (1 - output))\n",
        "# Teste\n",
        "print(1 / (1 + exp(-(dot(array([1, 1]), synaptic_weights)))))"
      ],
      "execution_count": 4,
      "outputs": [
        {
          "output_type": "stream",
          "text": [
            "[0.9999478]\n"
          ],
          "name": "stdout"
        }
      ]
    },
    {
      "cell_type": "code",
      "metadata": {
        "id": "uLDAVt_fec51",
        "outputId": "6bbae5c6-800d-4783-b9d1-d259c9778eab",
        "colab": {
          "base_uri": "https://localhost:8080/",
          "height": 34
        }
      },
      "source": [
        "from sklearn.neural_network import MLPClassifier\n",
        "X = [[0, 0], [0, 1], [1, 0]]\n",
        "y = [0, 1, 1]\n",
        "clf = MLPClassifier(solver='lbfgs', alpha=1e-5,\n",
        "                    hidden_layer_sizes=(5, 2), random_state=1)\n",
        "clf.fit(X, y)\n",
        "clf.predict([[1, 1]])"
      ],
      "execution_count": 6,
      "outputs": [
        {
          "output_type": "execute_result",
          "data": {
            "text/plain": [
              "array([1])"
            ]
          },
          "metadata": {
            "tags": []
          },
          "execution_count": 6
        }
      ]
    }
  ]
}